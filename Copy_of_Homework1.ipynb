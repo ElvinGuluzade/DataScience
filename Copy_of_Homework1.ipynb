{
  "nbformat": 4,
  "nbformat_minor": 0,
  "metadata": {
    "colab": {
      "name": "Copy of Homework1.ipynb",
      "provenance": [],
      "collapsed_sections": [],
      "include_colab_link": true
    },
    "kernelspec": {
      "name": "python3",
      "display_name": "Python 3"
    },
    "language_info": {
      "name": "python"
    }
  },
  "cells": [
    {
      "cell_type": "markdown",
      "metadata": {
        "id": "view-in-github",
        "colab_type": "text"
      },
      "source": [
        "<a href=\"https://colab.research.google.com/github/ElvinGuluzade/DataScience/blob/main/Copy_of_Homework1.ipynb\" target=\"_parent\"><img src=\"https://colab.research.google.com/assets/colab-badge.svg\" alt=\"Open In Colab\"/></a>"
      ]
    },
    {
      "cell_type": "code",
      "execution_count": null,
      "metadata": {
        "colab": {
          "base_uri": "https://localhost:8080/"
        },
        "id": "jrVeHsm1rpdT",
        "outputId": "25ae7589-c55e-45b1-a886-ed9372b066ce"
      },
      "outputs": [
        {
          "output_type": "stream",
          "name": "stdout",
          "text": [
            "What is your name? Hulusi\n",
            "What is your age? 43\n",
            "Your name is  Hulusi . Your age is  43\n"
          ]
        }
      ],
      "source": [
        "#Q1-Get your name and age as input and print it in the form like\n",
        "#Your name is Hulisi. Your age is 43\n",
        "name=input('What is your name? ')\n",
        "age=input('What is your age? ')\n",
        "print(\"Your name is \",name, \". Your age is \", age)"
      ]
    },
    {
      "cell_type": "code",
      "source": [
        "#Q2-Write a if statement for a given two number is equal or not\n",
        "a=43\n",
        "b=54\n",
        "if (a==b):\n",
        "  print(\"a is equal to b\")\n",
        "else:\n",
        "  print(\"a is not equal to b\")"
      ],
      "metadata": {
        "id": "7Sfg03_PuVWa",
        "outputId": "178949cb-2dbc-478a-ee7e-be8b37c270fa",
        "colab": {
          "base_uri": "https://localhost:8080/"
        }
      },
      "execution_count": null,
      "outputs": [
        {
          "output_type": "stream",
          "name": "stdout",
          "text": [
            "a is not equal to b\n"
          ]
        }
      ]
    },
    {
      "cell_type": "code",
      "source": [
        "#Q3-Write a if statement for first number is greater (a), equal or less than second number.(b)\n",
        "a=43\n",
        "b=54\n",
        "if (a>=b):\n",
        "  print(\"a is greater than b\")\n",
        "elif (a==b):\n",
        "  print(\"a is equal to b\")\n",
        "else:\n",
        "  print(\"a is less than b\")"
      ],
      "metadata": {
        "id": "NtUibZ07u5gs",
        "outputId": "0f7c0d0f-4756-4c65-d624-16919cfd251b",
        "colab": {
          "base_uri": "https://localhost:8080/"
        }
      },
      "execution_count": null,
      "outputs": [
        {
          "output_type": "stream",
          "name": "stdout",
          "text": [
            "a is less than b\n"
          ]
        }
      ]
    },
    {
      "cell_type": "code",
      "source": [
        "#Q4- Using for loop, print 1,2,3,4,5\n",
        "for k in range(1,6):\n",
        "  print(k)"
      ],
      "metadata": {
        "id": "U1UMQv36wNHP",
        "colab": {
          "base_uri": "https://localhost:8080/"
        },
        "outputId": "76c44d11-5d06-4307-9aab-e0e29ab2a605"
      },
      "execution_count": 1,
      "outputs": [
        {
          "output_type": "stream",
          "name": "stdout",
          "text": [
            "1\n",
            "2\n",
            "3\n",
            "4\n",
            "5\n"
          ]
        }
      ]
    },
    {
      "cell_type": "code",
      "source": [
        "#Q5-Using while loop, print 5,4,3,2,1\n",
        "a=6\n",
        "while (a>1):\n",
        "  a=a-1\n",
        "  print(a)"
      ],
      "metadata": {
        "id": "bh5Lga7XxGY8",
        "colab": {
          "base_uri": "https://localhost:8080/"
        },
        "outputId": "1cd22504-b723-4d7e-f1b3-0e31de356e56"
      },
      "execution_count": 2,
      "outputs": [
        {
          "output_type": "stream",
          "name": "stdout",
          "text": [
            "5\n",
            "4\n",
            "3\n",
            "2\n",
            "1\n"
          ]
        }
      ]
    },
    {
      "cell_type": "code",
      "source": [
        "#Q6- Using for loop, print 10,6,4,2,0\n",
        "#Hint Print if number is not equal to 8.\n",
        "\n",
        "for j in range(10,-1,-2):\n",
        "  if (j==8):\n",
        "    continue\n",
        "  else:\n",
        "    print(j)"
      ],
      "metadata": {
        "id": "cXTTDS49xSoi",
        "outputId": "5bb18175-bbda-4a8e-f497-dc7a6f682c76",
        "colab": {
          "base_uri": "https://localhost:8080/"
        }
      },
      "execution_count": null,
      "outputs": [
        {
          "output_type": "stream",
          "name": "stdout",
          "text": [
            "10\n",
            "6\n",
            "4\n",
            "2\n",
            "0\n"
          ]
        }
      ]
    },
    {
      "cell_type": "code",
      "source": [
        "#Q7-Write a method to calculate age for a given date of birth year.\n",
        "#Use this method on orer to calculate age of person if date of birth is 1944\n",
        "# if age is the name of function, print(age(1944))\n",
        "\n",
        "\n",
        "def age(birthdate):\n",
        "  return 2022-birthdate\n",
        "print(age(1981))"
      ],
      "metadata": {
        "id": "geUjb-vuyYbF",
        "colab": {
          "base_uri": "https://localhost:8080/"
        },
        "outputId": "209af0c3-c30c-430f-955c-ab804912290b"
      },
      "execution_count": 7,
      "outputs": [
        {
          "output_type": "stream",
          "name": "stdout",
          "text": [
            "41\n"
          ]
        }
      ]
    },
    {
      "cell_type": "code",
      "source": [
        "#Q8-Write a class named arithmetic with method for calculating addition, substraction, multiplication and division of two numbers.\n",
        "\n",
        "class arithmetic:\n",
        "  def addition(k,l):\n",
        "    return k+l\n",
        "  def multiplication(k,l):\n",
        "    return k*l\n",
        "  def division(k,l):\n",
        "    return k/l\n",
        "  def substraction(k,l):\n",
        "    return k-l\n",
        "\n",
        "print(arithmetic.multiplication(18,9))"
      ],
      "metadata": {
        "id": "YcyFzE3fzC7_",
        "colab": {
          "base_uri": "https://localhost:8080/"
        },
        "outputId": "2493eb63-748c-4394-9c9f-f816623f76da"
      },
      "execution_count": 17,
      "outputs": [
        {
          "output_type": "stream",
          "name": "stdout",
          "text": [
            "162\n"
          ]
        }
      ]
    },
    {
      "cell_type": "code",
      "source": [
        "#Q9- write a for loop or method  to calculate summation of first n numbers\n",
        "#i.e if n=3, it will print or return 6 (1+2+3)\n",
        "\n",
        "def seq_sum(n):\n",
        "  sum=0\n",
        "  for i in range(n):\n",
        "    sum = sum + i\n",
        "  return sum\n",
        "print(seq_sum(10))"
      ],
      "metadata": {
        "id": "AUJWr5YqzadI",
        "colab": {
          "base_uri": "https://localhost:8080/"
        },
        "outputId": "b21cea17-4584-4cd9-b528-fba6e3d8afc5"
      },
      "execution_count": 6,
      "outputs": [
        {
          "output_type": "stream",
          "name": "stdout",
          "text": [
            "45\n"
          ]
        }
      ]
    },
    {
      "cell_type": "code",
      "source": [
        "#Q10-Generate 10 numbers between 0 and 1 and add into list. Print first three elements of that list. \n",
        "\n",
        "t = []\n",
        "for n in range(0,11):\n",
        "  t.append(n)\n",
        "print(t[0:3])"
      ],
      "metadata": {
        "id": "hmtvJdCL02qx",
        "outputId": "31509112-b38c-4ec4-fd87-2c38e91330df",
        "colab": {
          "base_uri": "https://localhost:8080/"
        }
      },
      "execution_count": 8,
      "outputs": [
        {
          "output_type": "stream",
          "name": "stdout",
          "text": [
            "[0, 1, 2]\n"
          ]
        }
      ]
    },
    {
      "cell_type": "code",
      "source": [
        "#Q11-For a given number n, print numbers divisible by 3 up to that number(n included)\n",
        "#Example: if n=15, print 3,6,9,12,15\n",
        "#Hint you can use modulus statement (if (i%3==0))\n",
        "n=15\n",
        "\n",
        "for i in range(1,n+1):\n",
        "  if i%3==0:\n",
        "    print(i)\n",
        "  else:\n",
        "    pass"
      ],
      "metadata": {
        "id": "5O6Y2CujcAAs",
        "outputId": "f1d21287-0cc9-4efc-ad3d-7226d517d822",
        "colab": {
          "base_uri": "https://localhost:8080/"
        }
      },
      "execution_count": 10,
      "outputs": [
        {
          "output_type": "stream",
          "name": "stdout",
          "text": [
            "3\n",
            "6\n",
            "9\n",
            "12\n",
            "15\n"
          ]
        }
      ]
    }
  ]
}