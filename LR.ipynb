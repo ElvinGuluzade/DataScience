{
  "nbformat": 4,
  "nbformat_minor": 0,
  "metadata": {
    "colab": {
      "name": "LR.ipynb",
      "provenance": [],
      "authorship_tag": "ABX9TyP2yms6eNAhZUK4L3S7s8Pn",
      "include_colab_link": true
    },
    "kernelspec": {
      "name": "python3",
      "display_name": "Python 3"
    },
    "language_info": {
      "name": "python"
    }
  },
  "cells": [
    {
      "cell_type": "markdown",
      "metadata": {
        "id": "view-in-github",
        "colab_type": "text"
      },
      "source": [
        "<a href=\"https://colab.research.google.com/github/ogut77/DataScience/blob/main/LR.ipynb\" target=\"_parent\"><img src=\"https://colab.research.google.com/assets/colab-badge.svg\" alt=\"Open In Colab\"/></a>"
      ]
    },
    {
      "cell_type": "code",
      "source": [
        ""
      ],
      "metadata": {
        "id": "edPdpxwnQ-Hj"
      },
      "execution_count": null,
      "outputs": []
    },
    {
      "cell_type": "markdown",
      "source": [
        "Train-Test Split Evaluation\n",
        "The train-test split is a technique for evaluating the performance of a machine learning algorithm.\n",
        "\n",
        "It can be used for classification or regression problems and can be used for any supervised learning algorithm.\n",
        "\n",
        "The procedure involves taking a dataset and dividing it into two subsets. The first subset is used to fit the model and is referred to as the training dataset. The second subset is not used to train the model; instead, the input element of the dataset is provided to the model, then predictions are made and compared to the expected values. This second dataset is referred to as the test dataset.\n",
        "\n",
        "**Train Dataset:** Used to fit the machine learning model.\n",
        "\n",
        "**Test Dataset**: Used to evaluate the fit machine learning model.\n",
        "\n",
        "The objective is to estimate the performance of the machine learning model on new data: data not used to train the model.\n",
        "\n",
        "This is how we expect to use the model in practice. Namely, to fit it on available data with known inputs and outputs, then make predictions on new examples in the future where we do not have the expected output or target values.\n",
        "\n",
        "The train-test procedure is appropriate when there is a sufficiently large dataset available."
      ],
      "metadata": {
        "id": "xFWkFJinQ_PQ"
      }
    },
    {
      "cell_type": "code",
      "execution_count": 1,
      "metadata": {
        "id": "O6WvNr7WHmfm"
      },
      "outputs": [],
      "source": [
        "import numpy as np\n",
        "import pandas as pd\n",
        "import matplotlib.pyplot as plt\n",
        "\n",
        "%matplotlib inline"
      ]
    },
    {
      "cell_type": "code",
      "source": [
        "car_df = pd.read_csv('https://raw.githubusercontent.com/ogut77/DataScience/main/data/ToyotaCorolla.csv')"
      ],
      "metadata": {
        "id": "Sa8SuWP-JJSH"
      },
      "execution_count": 2,
      "outputs": []
    },
    {
      "cell_type": "code",
      "source": [
        "car_df.info()"
      ],
      "metadata": {
        "colab": {
          "base_uri": "https://localhost:8080/"
        },
        "id": "7mRx93uQJZOt",
        "outputId": "c6128423-ab04-4355-91cf-a1e491a27ebe"
      },
      "execution_count": 4,
      "outputs": [
        {
          "output_type": "stream",
          "name": "stdout",
          "text": [
            "<class 'pandas.core.frame.DataFrame'>\n",
            "RangeIndex: 1436 entries, 0 to 1435\n",
            "Data columns (total 39 columns):\n",
            " #   Column             Non-Null Count  Dtype \n",
            "---  ------             --------------  ----- \n",
            " 0   Id                 1436 non-null   int64 \n",
            " 1   Model              1436 non-null   object\n",
            " 2   Price              1436 non-null   int64 \n",
            " 3   Age_08_04          1436 non-null   int64 \n",
            " 4   Mfg_Month          1436 non-null   int64 \n",
            " 5   Mfg_Year           1436 non-null   int64 \n",
            " 6   KM                 1436 non-null   int64 \n",
            " 7   Fuel_Type          1436 non-null   object\n",
            " 8   HP                 1436 non-null   int64 \n",
            " 9   Met_Color          1436 non-null   int64 \n",
            " 10  Color              1436 non-null   object\n",
            " 11  Automatic          1436 non-null   int64 \n",
            " 12  CC                 1436 non-null   int64 \n",
            " 13  Doors              1436 non-null   int64 \n",
            " 14  Cylinders          1436 non-null   int64 \n",
            " 15  Gears              1436 non-null   int64 \n",
            " 16  Quarterly_Tax      1436 non-null   int64 \n",
            " 17  Weight             1436 non-null   int64 \n",
            " 18  Mfr_Guarantee      1436 non-null   int64 \n",
            " 19  BOVAG_Guarantee    1436 non-null   int64 \n",
            " 20  Guarantee_Period   1436 non-null   int64 \n",
            " 21  ABS                1436 non-null   int64 \n",
            " 22  Airbag_1           1436 non-null   int64 \n",
            " 23  Airbag_2           1436 non-null   int64 \n",
            " 24  Airco              1436 non-null   int64 \n",
            " 25  Automatic_airco    1436 non-null   int64 \n",
            " 26  Boardcomputer      1436 non-null   int64 \n",
            " 27  CD_Player          1436 non-null   int64 \n",
            " 28  Central_Lock       1436 non-null   int64 \n",
            " 29  Powered_Windows    1436 non-null   int64 \n",
            " 30  Power_Steering     1436 non-null   int64 \n",
            " 31  Radio              1436 non-null   int64 \n",
            " 32  Mistlamps          1436 non-null   int64 \n",
            " 33  Sport_Model        1436 non-null   int64 \n",
            " 34  Backseat_Divider   1436 non-null   int64 \n",
            " 35  Metallic_Rim       1436 non-null   int64 \n",
            " 36  Radio_cassette     1436 non-null   int64 \n",
            " 37  Parking_Assistant  1436 non-null   int64 \n",
            " 38  Tow_Bar            1436 non-null   int64 \n",
            "dtypes: int64(36), object(3)\n",
            "memory usage: 437.7+ KB\n"
          ]
        }
      ]
    },
    {
      "cell_type": "code",
      "source": [
        "import sklearn\n",
        "from sklearn.linear_model import LinearRegression\n",
        "from sklearn.model_selection import train_test_split\n",
        "\n",
        "\n",
        "y=df3['Price']\n",
        "X=df3.drop('Price',axis=1)\n",
        "X = pd.get_dummies(X, drop_first=True)\n",
        "X_train, X_test, y_train, y_test = train_test_split(X, y, test_size=0.2)\n",
        "#The size of the split can be specified via the “test_size” argument that takes a number\n",
        "# of rows (integer) or a percentage (float) of the size of the dataset between 0 and 1.\n",
        "#\n",
        "\n",
        "\n",
        "car_lm = LinearRegression()\n",
        "car_lm.fit(X_train, y_train)\n",
        "print(pd.DataFrame({'Predictor': X.columns, 'coefficient':car_lm.coef_}))\n"
      ],
      "metadata": {
        "colab": {
          "base_uri": "https://localhost:8080/"
        },
        "id": "ODXNQpG2Jlg8",
        "outputId": "1142da60-8dbd-419b-f335-6097baad91eb"
      },
      "execution_count": 9,
      "outputs": [
        {
          "output_type": "stream",
          "name": "stdout",
          "text": [
            "        Predictor   coefficient\n",
            "0              Id -1.002821e+00\n",
            "1       Age_08_04 -6.073151e+06\n",
            "2       Mfg_Month -6.073145e+06\n",
            "3        Mfg_Year -7.287697e+07\n",
            "4              KM -2.087129e-02\n",
            "..            ...           ...\n",
            "300     Color_Red  4.654683e+01\n",
            "301  Color_Silver  9.900497e+01\n",
            "302  Color_Violet -9.065105e+02\n",
            "303   Color_White -2.230258e+02\n",
            "304  Color_Yellow  1.344381e+02\n",
            "\n",
            "[305 rows x 2 columns]\n"
          ]
        }
      ]
    },
    {
      "cell_type": "code",
      "source": [
        "!pip install dmba\n",
        "from dmba import regressionSummary, exhaustive_search\n",
        "from dmba import backward_elimination, forward_selection, stepwise_selection\n",
        "from dmba import adjusted_r2_score, AIC_score, BIC_score\n",
        "regressionSummary(y_train, car_lm.predict(X_train))"
      ],
      "metadata": {
        "colab": {
          "base_uri": "https://localhost:8080/"
        },
        "id": "Q82M55CuM9zh",
        "outputId": "a6b16ff7-8540-4d79-ccbb-a80b046c3dd3"
      },
      "execution_count": 13,
      "outputs": [
        {
          "output_type": "stream",
          "name": "stdout",
          "text": [
            "Requirement already satisfied: dmba in /usr/local/lib/python3.7/dist-packages (0.0.19)\n",
            "\n",
            "Regression statistics\n",
            "\n",
            "                      Mean Error (ME) : 0.0000\n",
            "       Root Mean Squared Error (RMSE) : 690.2002\n",
            "            Mean Absolute Error (MAE) : 492.2522\n",
            "          Mean Percentage Error (MPE) : -0.4034\n",
            "Mean Absolute Percentage Error (MAPE) : 4.5288\n"
          ]
        }
      ]
    },
    {
      "cell_type": "code",
      "source": [
        "regressionSummary(y_test, car_lm.predict(X_test))"
      ],
      "metadata": {
        "colab": {
          "base_uri": "https://localhost:8080/"
        },
        "id": "8bXlycibPXDx",
        "outputId": "433efa54-0f1a-4a15-f1e2-6a2f8b4154bd"
      },
      "execution_count": 14,
      "outputs": [
        {
          "output_type": "stream",
          "name": "stdout",
          "text": [
            "\n",
            "Regression statistics\n",
            "\n",
            "                      Mean Error (ME) : -134.5566\n",
            "       Root Mean Squared Error (RMSE) : 2241.3919\n",
            "            Mean Absolute Error (MAE) : 1309.6856\n",
            "          Mean Percentage Error (MPE) : -2.1640\n",
            "Mean Absolute Percentage Error (MAPE) : 11.5543\n"
          ]
        }
      ]
    }
  ]
}