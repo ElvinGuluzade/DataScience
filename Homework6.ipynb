{
  "nbformat": 4,
  "nbformat_minor": 0,
  "metadata": {
    "colab": {
      "name": "Homework6.ipynb",
      "provenance": [],
      "include_colab_link": true
    },
    "kernelspec": {
      "name": "python3",
      "display_name": "Python 3"
    },
    "language_info": {
      "name": "python"
    }
  },
  "cells": [
    {
      "cell_type": "markdown",
      "metadata": {
        "id": "view-in-github",
        "colab_type": "text"
      },
      "source": [
        "<a href=\"https://colab.research.google.com/github/ElvinGuluzade/DataScience/blob/main/Homework6.ipynb\" target=\"_parent\"><img src=\"https://colab.research.google.com/assets/colab-badge.svg\" alt=\"Open In Colab\"/></a>"
      ]
    },
    {
      "cell_type": "markdown",
      "source": [
        "Question 1 (30 Points)\n",
        "\n",
        "A sample of 30 respondents was interviewed using mall intercept interviewing. The respondents were asked to indicate their degree of agreement with the following statements using a seven-point scale (1 = strongly disagree, 7 = strongly agree).\n",
        "\n",
        "•\tV1 = It is important to buy a toothpaste that prevents cavities\n",
        "\n",
        "•\tV2 = I like a toothpaste that gives a shiny teeth\n",
        "\n",
        "•\tV3 = A toothpaste should strengthen your gums teeth\n",
        "\n",
        "•\tV4 = I prefer a toothpaste that freshens breath\n",
        "\n",
        "•\tV5 = Prevention of tooth decay is not an important benefit offered by a toothpaste\n",
        "\n",
        "•\tV6 = The most important consideration in buying a toothpaste is attractive teeth\n",
        "\n",
        "By using the variables,\n",
        "\n",
        "(1) How many factors is extracted from data for principal component analysis?\n",
        "\n",
        "(2) What is the total percentage of variance explained by these principal components?\n",
        "\n",
        "(3)Which variables are included in the same factors ? How can you name these factors?\n",
        "\n",
        "You can find the data at \n",
        "\n",
        "https://raw.githubusercontent.com/ogut77/DataScience/main/data/Toothpaste.csv"
      ],
      "metadata": {
        "id": "54_BmoeeZfYk"
      }
    },
    {
      "cell_type": "code",
      "source": [
        "import pandas as pd\n",
        "import matplotlib.pyplot as plt\n",
        "import numpy as np\n",
        "from sklearn.preprocessing import StandardScaler\n",
        "from sklearn.decomposition import PCA, FactorAnalysis\n",
        "\n",
        "df=pd.read_csv('https://raw.githubusercontent.com/ogut77/DataScience/main/data/Toothpaste.csv')\n",
        "\n",
        "x = StandardScaler().fit_transform(df)\n",
        "x = pd.DataFrame(x)\n",
        "x.columns=df.columns\n",
        "\n",
        "pca = PCA(n_components=6)\n",
        "principalComponents = pca.fit_transform(x)\n",
        "print(pd.DataFrame(pca.explained_variance_ratio_))\n",
        "print(\"Answer q1.1 : 2\")\n",
        "print(\"Answer q1.2 : 70%\")\n",
        "print(\"Answer q1.3 : \")\n",
        "methods = [\n",
        "    (\"PCA\", PCA()),\n",
        "    (\"Unrotated FA\", FactorAnalysis()),\n",
        "    (\"Varimax FA\", FactorAnalysis(rotation=\"varimax\"))]\n",
        "\n",
        "fig, axes = plt.subplots(ncols=len(methods), figsize=(10, 6))\n",
        "\n",
        "for ax, (method, fa) in zip(axes, methods):\n",
        "    fa.set_params(n_components=2)\n",
        "    fa.fit(x)\n",
        "\n",
        "    components = fa.components_.T\n",
        "    print(\"\\n\\n %s :\\n\" % method)\n",
        "    print(components)\n",
        "\n",
        "    vmax = np.abs(components).max()\n",
        "    ax.imshow(components, cmap=\"RdBu_r\", vmax=vmax, vmin=-vmax)\n",
        "    ax.set_yticks(np.arange(len(x.columns)))\n",
        "    if ax.is_first_col():\n",
        "        ax.set_yticklabels(x.columns)\n",
        "    else:\n",
        "        ax.set_yticklabels([])\n",
        "    ax.set_title(str(method))\n",
        "    ax.set_xticks([0, 1])\n",
        "    ax.set_xticklabels([\"Comp. 1\", \"Comp. 2\"])\n",
        "fig.suptitle(\"Factors\")\n",
        "plt.tight_layout()\n",
        "plt.show()"
      ],
      "metadata": {
        "id": "jsiEIJf_s_uG",
        "outputId": "aeb74a3e-c61e-41b0-9329-5c4c2de708ee",
        "colab": {
          "base_uri": "https://localhost:8080/",
          "height": 1000
        }
      },
      "execution_count": 11,
      "outputs": [
        {
          "output_type": "stream",
          "name": "stdout",
          "text": [
            "          0\n",
            "0  0.397470\n",
            "1  0.302952\n",
            "2  0.161456\n",
            "3  0.071315\n",
            "4  0.051383\n",
            "5  0.015424\n",
            "Answer q1.1 : 2\n",
            "Answer q1.2 : 70%\n",
            "\n",
            "\n",
            " PCA :\n",
            "\n",
            "[[-0.30018046 -0.6143442 ]\n",
            " [ 0.50371538 -0.26353415]\n",
            " [-0.36363296 -0.57076551]\n",
            " [ 0.52621504 -0.21051407]\n",
            " [ 0.15821829  0.19532841]\n",
            " [ 0.47116694 -0.380642  ]]\n",
            "\n",
            "\n",
            " Unrotated FA :\n",
            "\n",
            "[[ 0.91639593  0.1231473 ]\n",
            " [-0.16959833  0.74233622]\n",
            " [ 0.9493102   0.0174767 ]\n",
            " [-0.24348583  0.75021151]\n",
            " [-0.18118035  0.0286029 ]\n",
            " [-0.06211276  0.82810382]]\n",
            "\n",
            "\n",
            " Varimax FA :\n",
            "\n",
            "[[ 0.92457783  0.01012876]\n",
            " [-0.077522    0.75750709]\n",
            " [ 0.94431928 -0.09877442]\n",
            " [-0.14989135  0.77436118]\n",
            " [-0.17632109  0.05055014]\n",
            " [ 0.03964755  0.82948297]]\n"
          ]
        },
        {
          "output_type": "display_data",
          "data": {
            "text/plain": [
              "<Figure size 720x432 with 3 Axes>"
            ],
            "image/png": "[encoded data removed]"
          },
          "metadata": {
            "needs_background": "light"
          }
        }
      ]
    },
    {
      "cell_type": "code",
      "source": [
        "#Q2\n",
        "import pandas as pd\n",
        "breast_dataset=pd.read_csv('https://raw.githubusercontent.com/ogut77/DataScience/main/data/Bcancer.csv')\n",
        "breast_dataset\n",
        "y=breast_dataset['label']\n",
        "X=breast_dataset.drop(['label'], axis = 1)\n",
        "X"
      ],
      "metadata": {
        "id": "M-SHEIK8i9Cx"
      },
      "execution_count": null,
      "outputs": []
    },
    {
      "cell_type": "markdown",
      "source": [
        "Q2) (70 points)Using breast cancer data above, \n",
        "\n",
        "(1) split the data two : training (65%) and testing (35%)\n",
        "\n",
        "(2) Using logistic regression model in train data, get the performance metric on test data(accuracy,recall, precision confusuion matrix)\n",
        "\n",
        "(3)Using knn model in train data(choose k based on CV), get the performance metric on test data(accuracy,recall, precision confusuion matrix). What is the k value chosen based on k?\n",
        "\n",
        "(4)Using naive  model in train data, get the performance metric on test data(accuracy,recall, precision confusuion matrix)\n",
        "\n",
        "(5)Using SVM with parameter tuning(you can use optuna) in train data ,get the performance metric on test data(accuracy,recall, precision confusuion matrix)"
      ],
      "metadata": {
        "id": "zC7aVfnCjG09"
      }
    }
  ]
}